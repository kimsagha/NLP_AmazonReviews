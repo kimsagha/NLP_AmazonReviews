{
 "cells": [
  {
   "cell_type": "markdown",
   "metadata": {},
   "source": [
    "## Imports"
   ]
  },
  {
   "cell_type": "code",
   "execution_count": 44,
   "metadata": {},
   "outputs": [],
   "source": [
    "import pandas as pd\n",
    "import numpy as np\n",
    "import tensorflow as tf\n",
    "from tensorflow import keras\n",
    "from tensorflow.keras import layers\n",
    "import matplotlib.pyplot as plt"
   ]
  },
  {
   "cell_type": "markdown",
   "metadata": {},
   "source": [
    "## Import Data\n",
    "Data structure and content\n",
    "* 3 columns:\n",
    "    1. Rating: the rating given for the review\n",
    "    2. Summary: summary of the complete review text\n",
    "    3. Text: the complete text of the review"
   ]
  },
  {
   "cell_type": "code",
   "execution_count": 45,
   "metadata": {},
   "outputs": [
    {
     "data": {
      "text/html": [
       "<div>\n",
       "<style scoped>\n",
       "    .dataframe tbody tr th:only-of-type {\n",
       "        vertical-align: middle;\n",
       "    }\n",
       "\n",
       "    .dataframe tbody tr th {\n",
       "        vertical-align: top;\n",
       "    }\n",
       "\n",
       "    .dataframe thead th {\n",
       "        text-align: right;\n",
       "    }\n",
       "</style>\n",
       "<table border=\"1\" class=\"dataframe\">\n",
       "  <thead>\n",
       "    <tr style=\"text-align: right;\">\n",
       "      <th></th>\n",
       "      <th>Rating</th>\n",
       "      <th>Summary</th>\n",
       "      <th>Text</th>\n",
       "    </tr>\n",
       "  </thead>\n",
       "  <tbody>\n",
       "    <tr>\n",
       "      <th>0</th>\n",
       "      <td>5</td>\n",
       "      <td>Good Quality Dog Food</td>\n",
       "      <td>I have bought several of the Vitality canned d...</td>\n",
       "    </tr>\n",
       "    <tr>\n",
       "      <th>1</th>\n",
       "      <td>1</td>\n",
       "      <td>Not as Advertised</td>\n",
       "      <td>Product arrived labeled as Jumbo Salted Peanut...</td>\n",
       "    </tr>\n",
       "    <tr>\n",
       "      <th>2</th>\n",
       "      <td>4</td>\n",
       "      <td>\"Delight\" says it all</td>\n",
       "      <td>This is a confection that has been around a fe...</td>\n",
       "    </tr>\n",
       "    <tr>\n",
       "      <th>3</th>\n",
       "      <td>2</td>\n",
       "      <td>Cough Medicine</td>\n",
       "      <td>If you are looking for the secret ingredient i...</td>\n",
       "    </tr>\n",
       "    <tr>\n",
       "      <th>4</th>\n",
       "      <td>5</td>\n",
       "      <td>Great taffy</td>\n",
       "      <td>Great taffy at a great price.  There was a wid...</td>\n",
       "    </tr>\n",
       "    <tr>\n",
       "      <th>...</th>\n",
       "      <td>...</td>\n",
       "      <td>...</td>\n",
       "      <td>...</td>\n",
       "    </tr>\n",
       "    <tr>\n",
       "      <th>568449</th>\n",
       "      <td>5</td>\n",
       "      <td>Will not do without</td>\n",
       "      <td>Great for sesame chicken..this is a good if no...</td>\n",
       "    </tr>\n",
       "    <tr>\n",
       "      <th>568450</th>\n",
       "      <td>2</td>\n",
       "      <td>disappointed</td>\n",
       "      <td>I'm disappointed with the flavor. The chocolat...</td>\n",
       "    </tr>\n",
       "    <tr>\n",
       "      <th>568451</th>\n",
       "      <td>5</td>\n",
       "      <td>Perfect for our maltipoo</td>\n",
       "      <td>These stars are small, so you can give 10-15 o...</td>\n",
       "    </tr>\n",
       "    <tr>\n",
       "      <th>568452</th>\n",
       "      <td>5</td>\n",
       "      <td>Favorite Training and reward treat</td>\n",
       "      <td>These are the BEST treats for training and rew...</td>\n",
       "    </tr>\n",
       "    <tr>\n",
       "      <th>568453</th>\n",
       "      <td>5</td>\n",
       "      <td>Great Honey</td>\n",
       "      <td>I am very satisfied ,product is as advertised,...</td>\n",
       "    </tr>\n",
       "  </tbody>\n",
       "</table>\n",
       "<p>568454 rows × 3 columns</p>\n",
       "</div>"
      ],
      "text/plain": [
       "        Rating                             Summary  \\\n",
       "0            5               Good Quality Dog Food   \n",
       "1            1                   Not as Advertised   \n",
       "2            4               \"Delight\" says it all   \n",
       "3            2                      Cough Medicine   \n",
       "4            5                         Great taffy   \n",
       "...        ...                                 ...   \n",
       "568449       5                 Will not do without   \n",
       "568450       2                        disappointed   \n",
       "568451       5            Perfect for our maltipoo   \n",
       "568452       5  Favorite Training and reward treat   \n",
       "568453       5                         Great Honey   \n",
       "\n",
       "                                                     Text  \n",
       "0       I have bought several of the Vitality canned d...  \n",
       "1       Product arrived labeled as Jumbo Salted Peanut...  \n",
       "2       This is a confection that has been around a fe...  \n",
       "3       If you are looking for the secret ingredient i...  \n",
       "4       Great taffy at a great price.  There was a wid...  \n",
       "...                                                   ...  \n",
       "568449  Great for sesame chicken..this is a good if no...  \n",
       "568450  I'm disappointed with the flavor. The chocolat...  \n",
       "568451  These stars are small, so you can give 10-15 o...  \n",
       "568452  These are the BEST treats for training and rew...  \n",
       "568453  I am very satisfied ,product is as advertised,...  \n",
       "\n",
       "[568454 rows x 3 columns]"
      ]
     },
     "execution_count": 45,
     "metadata": {},
     "output_type": "execute_result"
    }
   ],
   "source": [
    "df = pd.read_csv('Reviews.csv')\n",
    "df = df.rename(columns={'Score': 'Rating'})\n",
    "df"
   ]
  },
  {
   "cell_type": "markdown",
   "metadata": {},
   "source": [
    "### Data Distribution"
   ]
  },
  {
   "cell_type": "code",
   "execution_count": 46,
   "metadata": {},
   "outputs": [
    {
     "name": "stdout",
     "output_type": "stream",
     "text": [
      "Number of different ratings: 5\n",
      "Ratings: [1 2 3 4 5]\n"
     ]
    },
    {
     "data": {
      "image/png": "[encoded data removed]",
      "text/plain": [
       "<Figure size 432x288 with 1 Axes>"
      ]
     },
     "metadata": {
      "needs_background": "light"
     },
     "output_type": "display_data"
    }
   ],
   "source": [
    "print('Number of different ratings:', len(pd.unique(df['Rating'])))\n",
    "ratings = pd.unique(df['Rating'])\n",
    "ratings.sort(axis=0)\n",
    "print('Ratings:', ratings)\n",
    "\n",
    "rating_frequencies = []\n",
    "for i in range(1,6):\n",
    "    rating_frequencies.append(df[df.Rating == i].shape[0])\n",
    "\n",
    "fig = plt.figure()\n",
    "ax = fig.add_axes([0,0,1,1])\n",
    "ax.set_title('Occurrences of each Rating')\n",
    "plt.xlabel('Ratings')\n",
    "plt.ylabel('Frequencies')\n",
    "bars = ax.bar(ratings,rating_frequencies)\n",
    "for bar in bars:\n",
    "  height = bar.get_height()\n",
    "  label_x_pos = bar.get_x() + bar.get_width() / 2\n",
    "  ax.text(label_x_pos, height, s=f'{height}', ha='center', va='bottom')\n",
    "plt.show()"
   ]
  },
  {
   "cell_type": "code",
   "execution_count": 47,
   "metadata": {},
   "outputs": [
    {
     "name": "stdout",
     "output_type": "stream",
     "text": [
      "Number of data points: 568454\n",
      "Number of null values in each column:\n",
      "Rating      0\n",
      "Summary    27\n",
      "Text        0\n",
      "dtype: int64\n"
     ]
    }
   ],
   "source": [
    "print('Number of data points:', len(df.index))\n",
    "print('Number of null values in each column:')\n",
    "print(df.isna().sum())"
   ]
  },
  {
   "cell_type": "markdown",
   "metadata": {},
   "source": [
    "No null values in important columns Rating and Text"
   ]
  },
  {
   "cell_type": "markdown",
   "metadata": {},
   "source": [
    "Only 27/568454 rows have null values so remove those rows"
   ]
  },
  {
   "cell_type": "code",
   "execution_count": 48,
   "metadata": {},
   "outputs": [],
   "source": [
    "df.dropna(inplace = True)"
   ]
  },
  {
   "cell_type": "code",
   "execution_count": 49,
   "metadata": {},
   "outputs": [
    {
     "name": "stdout",
     "output_type": "stream",
     "text": [
      "Number of data points: 568427\n"
     ]
    }
   ],
   "source": [
    "print('Number of data points:', len(df.index))"
   ]
  },
  {
   "cell_type": "markdown",
   "metadata": {},
   "source": [
    "Change all ratings above 3 to positive and below 3 to negative. Remove reviews with a neutral rating of 3."
   ]
  },
  {
   "cell_type": "code",
   "execution_count": 50,
   "metadata": {},
   "outputs": [
    {
     "name": "stdout",
     "output_type": "stream",
     "text": [
      "Number of data points: 525789\n",
      "  Rating                                        Summary  \\\n",
      "0    pos                          Good Quality Dog Food   \n",
      "1    neg                              Not as Advertised   \n",
      "2    pos                          \"Delight\" says it all   \n",
      "3    neg                                 Cough Medicine   \n",
      "4    pos                                    Great taffy   \n",
      "5    pos                                     Nice Taffy   \n",
      "6    pos  Great!  Just as good as the expensive brands!   \n",
      "7    pos                         Wonderful, tasty taffy   \n",
      "8    pos                                     Yay Barley   \n",
      "9    pos                               Healthy Dog Food   \n",
      "\n",
      "                                                Text  \n",
      "0  I have bought several of the Vitality canned d...  \n",
      "1  Product arrived labeled as Jumbo Salted Peanut...  \n",
      "2  This is a confection that has been around a fe...  \n",
      "3  If you are looking for the secret ingredient i...  \n",
      "4  Great taffy at a great price.  There was a wid...  \n",
      "5  I got a wild hair for taffy and ordered this f...  \n",
      "6  This saltwater taffy had great flavors and was...  \n",
      "7  This taffy is so good.  It is very soft and ch...  \n",
      "8  Right now I'm mostly just sprouting this so my...  \n",
      "9  This is a very healthy dog food. Good for thei...  \n"
     ]
    }
   ],
   "source": [
    "df = df.drop(df[df.Rating == 3].index)\n",
    "df['Rating'] = df['Rating'].apply(lambda x : ('pos') if (x > 3) else ('neg'))\n",
    "print('Number of data points:', len(df.index))\n",
    "print(df.head(10))"
   ]
  },
  {
   "cell_type": "code",
   "execution_count": 51,
   "metadata": {},
   "outputs": [
    {
     "name": "stdout",
     "output_type": "stream",
     "text": [
      "Checking types of df columns:\n"
     ]
    },
    {
     "data": {
      "text/plain": [
       "Rating     object\n",
       "Summary    object\n",
       "Text       object\n",
       "dtype: object"
      ]
     },
     "execution_count": 51,
     "metadata": {},
     "output_type": "execute_result"
    }
   ],
   "source": [
    "print('Checking types of df columns:')\n",
    "df.dtypes"
   ]
  },
  {
   "cell_type": "code",
   "execution_count": 56,
   "metadata": {},
   "outputs": [
    {
     "data": {
      "text/html": [
       "<div>\n",
       "<style scoped>\n",
       "    .dataframe tbody tr th:only-of-type {\n",
       "        vertical-align: middle;\n",
       "    }\n",
       "\n",
       "    .dataframe tbody tr th {\n",
       "        vertical-align: top;\n",
       "    }\n",
       "\n",
       "    .dataframe thead th {\n",
       "        text-align: right;\n",
       "    }\n",
       "</style>\n",
       "<table border=\"1\" class=\"dataframe\">\n",
       "  <thead>\n",
       "    <tr style=\"text-align: right;\">\n",
       "      <th></th>\n",
       "      <th>level_0</th>\n",
       "      <th>index</th>\n",
       "      <th>Rating</th>\n",
       "      <th>Summary</th>\n",
       "      <th>Text</th>\n",
       "    </tr>\n",
       "  </thead>\n",
       "  <tbody>\n",
       "    <tr>\n",
       "      <th>0</th>\n",
       "      <td>0</td>\n",
       "      <td>0</td>\n",
       "      <td>pos</td>\n",
       "      <td>Good Quality Dog Food</td>\n",
       "      <td>I have bought several of the Vitality canned d...</td>\n",
       "    </tr>\n",
       "    <tr>\n",
       "      <th>1</th>\n",
       "      <td>1</td>\n",
       "      <td>1</td>\n",
       "      <td>neg</td>\n",
       "      <td>Not as Advertised</td>\n",
       "      <td>Product arrived labeled as Jumbo Salted Peanut...</td>\n",
       "    </tr>\n",
       "    <tr>\n",
       "      <th>2</th>\n",
       "      <td>2</td>\n",
       "      <td>2</td>\n",
       "      <td>pos</td>\n",
       "      <td>\"Delight\" says it all</td>\n",
       "      <td>This is a confection that has been around a fe...</td>\n",
       "    </tr>\n",
       "    <tr>\n",
       "      <th>3</th>\n",
       "      <td>3</td>\n",
       "      <td>3</td>\n",
       "      <td>neg</td>\n",
       "      <td>Cough Medicine</td>\n",
       "      <td>If you are looking for the secret ingredient i...</td>\n",
       "    </tr>\n",
       "    <tr>\n",
       "      <th>4</th>\n",
       "      <td>4</td>\n",
       "      <td>4</td>\n",
       "      <td>pos</td>\n",
       "      <td>Great taffy</td>\n",
       "      <td>Great taffy at a great price.  There was a wid...</td>\n",
       "    </tr>\n",
       "    <tr>\n",
       "      <th>...</th>\n",
       "      <td>...</td>\n",
       "      <td>...</td>\n",
       "      <td>...</td>\n",
       "      <td>...</td>\n",
       "      <td>...</td>\n",
       "    </tr>\n",
       "    <tr>\n",
       "      <th>525784</th>\n",
       "      <td>525784</td>\n",
       "      <td>568449</td>\n",
       "      <td>pos</td>\n",
       "      <td>Will not do without</td>\n",
       "      <td>Great for sesame chicken..this is a good if no...</td>\n",
       "    </tr>\n",
       "    <tr>\n",
       "      <th>525785</th>\n",
       "      <td>525785</td>\n",
       "      <td>568450</td>\n",
       "      <td>neg</td>\n",
       "      <td>disappointed</td>\n",
       "      <td>I'm disappointed with the flavor. The chocolat...</td>\n",
       "    </tr>\n",
       "    <tr>\n",
       "      <th>525786</th>\n",
       "      <td>525786</td>\n",
       "      <td>568451</td>\n",
       "      <td>pos</td>\n",
       "      <td>Perfect for our maltipoo</td>\n",
       "      <td>These stars are small, so you can give 10-15 o...</td>\n",
       "    </tr>\n",
       "    <tr>\n",
       "      <th>525787</th>\n",
       "      <td>525787</td>\n",
       "      <td>568452</td>\n",
       "      <td>pos</td>\n",
       "      <td>Favorite Training and reward treat</td>\n",
       "      <td>These are the BEST treats for training and rew...</td>\n",
       "    </tr>\n",
       "    <tr>\n",
       "      <th>525788</th>\n",
       "      <td>525788</td>\n",
       "      <td>568453</td>\n",
       "      <td>pos</td>\n",
       "      <td>Great Honey</td>\n",
       "      <td>I am very satisfied ,product is as advertised,...</td>\n",
       "    </tr>\n",
       "  </tbody>\n",
       "</table>\n",
       "<p>525789 rows × 5 columns</p>\n",
       "</div>"
      ],
      "text/plain": [
       "        level_0   index Rating                             Summary  \\\n",
       "0             0       0    pos               Good Quality Dog Food   \n",
       "1             1       1    neg                   Not as Advertised   \n",
       "2             2       2    pos               \"Delight\" says it all   \n",
       "3             3       3    neg                      Cough Medicine   \n",
       "4             4       4    pos                         Great taffy   \n",
       "...         ...     ...    ...                                 ...   \n",
       "525784   525784  568449    pos                 Will not do without   \n",
       "525785   525785  568450    neg                        disappointed   \n",
       "525786   525786  568451    pos            Perfect for our maltipoo   \n",
       "525787   525787  568452    pos  Favorite Training and reward treat   \n",
       "525788   525788  568453    pos                         Great Honey   \n",
       "\n",
       "                                                     Text  \n",
       "0       I have bought several of the Vitality canned d...  \n",
       "1       Product arrived labeled as Jumbo Salted Peanut...  \n",
       "2       This is a confection that has been around a fe...  \n",
       "3       If you are looking for the secret ingredient i...  \n",
       "4       Great taffy at a great price.  There was a wid...  \n",
       "...                                                   ...  \n",
       "525784  Great for sesame chicken..this is a good if no...  \n",
       "525785  I'm disappointed with the flavor. The chocolat...  \n",
       "525786  These stars are small, so you can give 10-15 o...  \n",
       "525787  These are the BEST treats for training and rew...  \n",
       "525788  I am very satisfied ,product is as advertised,...  \n",
       "\n",
       "[525789 rows x 5 columns]"
      ]
     },
     "execution_count": 56,
     "metadata": {},
     "output_type": "execute_result"
    }
   ],
   "source": [
    "df = df.reset_index()\n",
    "df"
   ]
  },
  {
   "cell_type": "code",
   "execution_count": null,
   "metadata": {},
   "outputs": [],
   "source": []
  }
 ],
 "metadata": {
  "kernelspec": {
   "display_name": "Python 3",
   "language": "python",
   "name": "python3"
  },
  "language_info": {
   "codemirror_mode": {
    "name": "ipython",
    "version": 3
   },
   "file_extension": ".py",
   "mimetype": "text/x-python",
   "name": "python",
   "nbconvert_exporter": "python",
   "pygments_lexer": "ipython3",
   "version": "3.8.3"
  }
 },
 "nbformat": 4,
 "nbformat_minor": 4
}
